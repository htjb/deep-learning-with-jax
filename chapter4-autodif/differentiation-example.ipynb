{
 "cells": [
  {
   "cell_type": "code",
   "execution_count": 1,
   "metadata": {},
   "outputs": [
    {
     "name": "stdout",
     "output_type": "stream",
     "text": [
      "20880.083333333332 6923.993055555556\n"
     ]
    }
   ],
   "source": [
    "def f(x):\n",
    "    return x**4 + 12*x + 1/x\n",
    "\n",
    "def df(x):\n",
    "    return 4*x**3 + 12 - 1/x**2\n",
    "\n",
    "x = 12\n",
    "print(f(x), df(x))"
   ]
  },
  {
   "cell_type": "code",
   "execution_count": 6,
   "metadata": {},
   "outputs": [
    {
     "name": "stdout",
     "output_type": "stream",
     "text": [
      "x**4 + 12*x + 1/x\n",
      "4*x**3 + 12 - 1/x**2\n",
      "20880.083333333332\n",
      "6923.993055555556\n"
     ]
    }
   ],
   "source": [
    "import sympy\n",
    "\n",
    "x_sym = sympy.symbols('x')\n",
    "f_sym = f(x_sym)\n",
    "df_sym = sympy.diff(f_sym)\n",
    "print(f_sym)\n",
    "print(df_sym)\n",
    "\n",
    "f_exc_sym = sympy.lambdify(x_sym, f_sym)\n",
    "df_exc_sym = sympy.lambdify(x_sym, df_sym)\n",
    "\n",
    "print(f_exc_sym(x))\n",
    "print(df_exc_sym(x))"
   ]
  }
 ],
 "metadata": {
  "kernelspec": {
   "display_name": "jaxenv",
   "language": "python",
   "name": "python3"
  },
  "language_info": {
   "codemirror_mode": {
    "name": "ipython",
    "version": 3
   },
   "file_extension": ".py",
   "mimetype": "text/x-python",
   "name": "python",
   "nbconvert_exporter": "python",
   "pygments_lexer": "ipython3",
   "version": "3.11.9"
  }
 },
 "nbformat": 4,
 "nbformat_minor": 2
}
