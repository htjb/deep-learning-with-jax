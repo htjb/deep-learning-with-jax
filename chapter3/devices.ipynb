{
  "cells": [
    {
      "cell_type": "code",
      "execution_count": 1,
      "metadata": {
        "colab": {
          "base_uri": "https://localhost:8080/"
        },
        "id": "h_RxLujOKkH9",
        "outputId": "724b20a5-1aa6-462d-ad8c-3169c0d37834"
      },
      "outputs": [
        {
          "name": "stderr",
          "output_type": "stream",
          "text": [
            "WARNING:2025-02-21 17:07:10,787:jax._src.xla_bridge:1018: Platform 'METAL' is experimental and not all JAX functionality may be correctly supported!\n"
          ]
        },
        {
          "name": "stdout",
          "output_type": "stream",
          "text": [
            "Metal device set to: Apple M2\n",
            "\n",
            "systemMemory: 8.00 GB\n",
            "maxCacheSize: 2.67 GB\n",
            "\n"
          ]
        },
        {
          "name": "stderr",
          "output_type": "stream",
          "text": [
            "WARNING: All log messages before absl::InitializeLog() is called are written to STDERR\n",
            "W0000 00:00:1740157630.788043 4012428 mps_client.cc:510] WARNING: JAX Apple GPU support is experimental and not all JAX functionality is correctly supported!\n",
            "I0000 00:00:1740157630.817195 4012428 service.cc:145] XLA service 0x11c752e90 initialized for platform METAL (this does not guarantee that XLA will be used). Devices:\n",
            "I0000 00:00:1740157630.817228 4012428 service.cc:153]   StreamExecutor device (0): Metal, <undefined>\n",
            "I0000 00:00:1740157630.818969 4012428 mps_client.cc:406] Using Simple allocator.\n",
            "I0000 00:00:1740157630.818982 4012428 mps_client.cc:384] XLA backend will use up to 5726240768 bytes on device 0 for SimpleAllocator.\n"
          ]
        },
        {
          "data": {
            "text/plain": [
              "[METAL(id=0)]"
            ]
          },
          "execution_count": 1,
          "metadata": {},
          "output_type": "execute_result"
        }
      ],
      "source": [
        "import jax\n",
        "jax.devices()"
      ]
    },
    {
      "cell_type": "code",
      "execution_count": 2,
      "metadata": {
        "colab": {
          "base_uri": "https://localhost:8080/"
        },
        "id": "prGzQ5eqKkIA",
        "outputId": "9037a237-5822-4d6a-ace7-3f20dfc84e9c"
      },
      "outputs": [
        {
          "data": {
            "text/plain": [
              "[METAL(id=0)]"
            ]
          },
          "execution_count": 2,
          "metadata": {},
          "output_type": "execute_result"
        }
      ],
      "source": [
        "jax.local_devices()"
      ]
    },
    {
      "cell_type": "code",
      "execution_count": 3,
      "metadata": {
        "colab": {
          "base_uri": "https://localhost:8080/"
        },
        "id": "0PCzcaGPKkIA",
        "outputId": "987e3dc6-8545-467c-d190-79cb6b22feed"
      },
      "outputs": [
        {
          "data": {
            "text/plain": [
              "1"
            ]
          },
          "execution_count": 3,
          "metadata": {},
          "output_type": "execute_result"
        }
      ],
      "source": [
        "jax.device_count('METAL')"
      ]
    },
    {
      "cell_type": "code",
      "execution_count": 4,
      "metadata": {
        "colab": {
          "base_uri": "https://localhost:8080/"
        },
        "id": "d6fbb-KMK5gR",
        "outputId": "5ec7e07e-44f6-47c0-cc63-c3f5fcd4a579"
      },
      "outputs": [
        {
          "data": {
            "text/plain": [
              "1"
            ]
          },
          "execution_count": 4,
          "metadata": {},
          "output_type": "execute_result"
        }
      ],
      "source": [
        "jax.device_count('cpu')"
      ]
    },
    {
      "cell_type": "code",
      "execution_count": 5,
      "metadata": {
        "colab": {
          "base_uri": "https://localhost:8080/"
        },
        "id": "mYj5DPqQMHvk",
        "outputId": "baa131ba-29f9-4351-8bc1-5559ff771037"
      },
      "outputs": [
        {
          "data": {
            "text/plain": [
              "METAL(id=0)"
            ]
          },
          "execution_count": 5,
          "metadata": {},
          "output_type": "execute_result"
        }
      ],
      "source": [
        "import jax.numpy as jnp\n",
        "arr = jnp.array([1, 42, 31337])\n",
        "arr.device"
      ]
    },
    {
      "cell_type": "code",
      "execution_count": 6,
      "metadata": {
        "colab": {
          "base_uri": "https://localhost:8080/"
        },
        "id": "WfQtYOaTMjCi",
        "outputId": "d96af6f4-5211-4e8b-ee44-e94420cda77b"
      },
      "outputs": [
        {
          "data": {
            "text/plain": [
              "CpuDevice(id=0)"
            ]
          },
          "execution_count": 6,
          "metadata": {},
          "output_type": "execute_result"
        }
      ],
      "source": [
        "arr_cpu = jax.device_put(arr, jax.devices('cpu')[0])\n",
        "arr_cpu.device"
      ]
    },
    {
      "cell_type": "code",
      "execution_count": 7,
      "metadata": {
        "colab": {
          "base_uri": "https://localhost:8080/"
        },
        "id": "Ia5QDTorMyhR",
        "outputId": "209ea761-becf-4fce-e84e-663efc73a0f6"
      },
      "outputs": [
        {
          "data": {
            "text/plain": [
              "METAL(id=0)"
            ]
          },
          "execution_count": 7,
          "metadata": {},
          "output_type": "execute_result"
        }
      ],
      "source": [
        "arr.device"
      ]
    },
    {
      "cell_type": "code",
      "execution_count": 8,
      "metadata": {
        "colab": {
          "base_uri": "https://localhost:8080/"
        },
        "id": "Jq3IlCyCM7Gg",
        "outputId": "73971f11-e177-47bc-9b7d-2d46db08d754"
      },
      "outputs": [
        {
          "data": {
            "text/plain": [
              "numpy.ndarray"
            ]
          },
          "execution_count": 8,
          "metadata": {},
          "output_type": "execute_result"
        }
      ],
      "source": [
        "arr_host = jax.device_get(arr)\n",
        "type(arr_host)"
      ]
    },
    {
      "cell_type": "code",
      "execution_count": 9,
      "metadata": {
        "colab": {
          "base_uri": "https://localhost:8080/"
        },
        "id": "XgWUo7Y_NDHT",
        "outputId": "68ba2d29-a286-46d1-cd0d-211977b331f1"
      },
      "outputs": [
        {
          "data": {
            "text/plain": [
              "array([    1,    42, 31337], dtype=int32)"
            ]
          },
          "execution_count": 9,
          "metadata": {},
          "output_type": "execute_result"
        }
      ],
      "source": [
        "arr_host"
      ]
    },
    {
      "cell_type": "code",
      "execution_count": 10,
      "metadata": {
        "colab": {
          "base_uri": "https://localhost:8080/"
        },
        "id": "IodqveeFNa5K",
        "outputId": "4463d69e-d4de-4275-b2f6-c9d4dc23acb9"
      },
      "outputs": [
        {
          "data": {
            "text/plain": [
              "Array([    2,    84, 62674], dtype=int32)"
            ]
          },
          "execution_count": 10,
          "metadata": {},
          "output_type": "execute_result"
        }
      ],
      "source": [
        "arr + arr_cpu"
      ]
    },
    {
      "cell_type": "code",
      "execution_count": 11,
      "metadata": {
        "colab": {
          "base_uri": "https://localhost:8080/"
        },
        "id": "5OVxmt7lNjpF",
        "outputId": "6ab64141-dbcb-4db8-fc1a-96b66ba3a544"
      },
      "outputs": [
        {
          "name": "stdout",
          "output_type": "stream",
          "text": [
            "Received incompatible devices for jitted computation. Got argument x of add with shape int32[3] and device ids [0] on platform METAL and argument y of add with shape int32[3] and device ids [0] on platform CPU\n"
          ]
        }
      ],
      "source": [
        "arr_gpu = jax.device_put(arr, jax.devices('METAL')[0])\n",
        "\n",
        "try:\n",
        "  arr_gpu + arr_cpu\n",
        "except Exception as e:\n",
        "  print(e)"
      ]
    },
    {
      "cell_type": "code",
      "execution_count": 12,
      "metadata": {
        "colab": {
          "base_uri": "https://localhost:8080/"
        },
        "id": "LTGIXJN-hgIK",
        "outputId": "f6dd3e7f-a3ee-4db0-f97a-88e3e07b8cce"
      },
      "outputs": [
        {
          "data": {
            "text/plain": [
              "METAL(id=0)"
            ]
          },
          "execution_count": 12,
          "metadata": {},
          "output_type": "execute_result"
        }
      ],
      "source": [
        "a = jnp.array(range(1000000)).reshape(1000, 1000)\n",
        "a.device"
      ]
    },
    {
      "cell_type": "code",
      "execution_count": 13,
      "metadata": {
        "colab": {
          "base_uri": "https://localhost:8080/"
        },
        "id": "Bue5hkixh668",
        "outputId": "8b37d393-fe83-4b93-e6a5-858fc22cc426"
      },
      "outputs": [
        {
          "ename": "XlaRuntimeError",
          "evalue": "UNKNOWN: <timed exec>:1:4: error: 'mps.matmul' op operand #0 must be tensor of floating point values or tensor of complex values, but got 'tensor<1000x1000xsi32>'\n/Users/harry/Documents/deep-learning-with-jax/jaxenv/lib/python3.11/site-packages/IPython/core/magics/execution.py:1364:16: note: called from\n                exec(code, glob, local_ns)\n               ^\n/Users/harry/Documents/deep-learning-with-jax/jaxenv/lib/python3.11/site-packages/IPython/core/interactiveshell.py:2482:25: note: called from\n                result = fn(*args, **kwargs)\n                        ^\n/var/folders/t3/5g06g87x3k32kcs57k9p9y1r0000gn/T/ipykernel_80611/3696143475.py:1:0: note: called from\n/Users/harry/Documents/deep-learning-with-jax/jaxenv/lib/python3.11/site-packages/IPython/core/interactiveshell.py:3579:20: note: called from\n                    exec(code_obj, self.user_global_ns, self.user_ns)\n                   ^\n/Users/harry/Documents/deep-learning-with-jax/jaxenv/lib/python3.11/site-packages/IPython/core/interactiveshell.py:3519:19: note: called from\n                if await self.run_code(code, result, async_=asy):\n                  ^\n/Users/harry/Documents/deep-learning-with-jax/jaxenv/lib/python3.11/site-packages/IPython/core/interactiveshell.py:3336:29: note: called from\n                has_raised = await self.run_ast_nodes(code_ast.body, cell_name,\n                            ^\n/Users/harry/Documents/deep-learning-with-jax/jaxenv/lib/python3.11/site-packages/IPython/core/async_helpers.py:128:8: note: called from\n        coro.send(None)\n       ^\n/Users/harry/Documents/deep-learning-with-jax/jaxenv/lib/python3.11/site-packages/IPython/core/interactiveshell.py:3132:21: note: called from\n            result = runner(coro)\n                    ^\n/Users/harry/Documents/deep-learning-with-jax/jaxenv/lib/python3.11/site-packages/IPython/core/interactiveshell.py:3077:21: note: called from\n            result = self._run_cell(\n                    ^\n<timed exec>:1:4: note: see current operation: %0 = \"mps.matmul\"(%arg0, %arg1) <{transpose_lhs = false, transpose_rhs = false}> : (tensor<1000x1000xsi32>, tensor<1000x1000xsi32>) -> tensor<1000x1000xsi32>\n",
          "output_type": "error",
          "traceback": [
            "\u001b[0;31m---------------------------------------------------------------------------\u001b[0m",
            "\u001b[0;31mXlaRuntimeError\u001b[0m                           Traceback (most recent call last)",
            "File \u001b[0;32m<timed exec>:1\u001b[0m\n",
            "    \u001b[0;31m[... skipping hidden 10 frame]\u001b[0m\n",
            "File \u001b[0;32m~/Documents/deep-learning-with-jax/jaxenv/lib/python3.11/site-packages/jax/_src/compiler.py:315\u001b[0m, in \u001b[0;36mbackend_compile\u001b[0;34m(backend, module, options, host_callbacks)\u001b[0m\n\u001b[1;32m    309\u001b[0m     \u001b[38;5;28;01mreturn\u001b[39;00m backend\u001b[38;5;241m.\u001b[39mcompile(\n\u001b[1;32m    310\u001b[0m         built_c, compile_options\u001b[38;5;241m=\u001b[39moptions, host_callbacks\u001b[38;5;241m=\u001b[39mhost_callbacks\n\u001b[1;32m    311\u001b[0m     )\n\u001b[1;32m    312\u001b[0m   \u001b[38;5;66;03m# Some backends don't have `host_callbacks` option yet\u001b[39;00m\n\u001b[1;32m    313\u001b[0m   \u001b[38;5;66;03m# TODO(sharadmv): remove this fallback when all backends allow `compile`\u001b[39;00m\n\u001b[1;32m    314\u001b[0m   \u001b[38;5;66;03m# to take in `host_callbacks`\u001b[39;00m\n\u001b[0;32m--> 315\u001b[0m   \u001b[38;5;28;01mreturn\u001b[39;00m \u001b[43mbackend\u001b[49m\u001b[38;5;241;43m.\u001b[39;49m\u001b[43mcompile\u001b[49m\u001b[43m(\u001b[49m\u001b[43mbuilt_c\u001b[49m\u001b[43m,\u001b[49m\u001b[43m \u001b[49m\u001b[43mcompile_options\u001b[49m\u001b[38;5;241;43m=\u001b[39;49m\u001b[43moptions\u001b[49m\u001b[43m)\u001b[49m\n\u001b[1;32m    316\u001b[0m \u001b[38;5;28;01mexcept\u001b[39;00m xc\u001b[38;5;241m.\u001b[39mXlaRuntimeError \u001b[38;5;28;01mas\u001b[39;00m e:\n\u001b[1;32m    317\u001b[0m   \u001b[38;5;28;01mfor\u001b[39;00m error_handler \u001b[38;5;129;01min\u001b[39;00m _XLA_RUNTIME_ERROR_HANDLERS:\n",
            "\u001b[0;31mXlaRuntimeError\u001b[0m: UNKNOWN: <timed exec>:1:4: error: 'mps.matmul' op operand #0 must be tensor of floating point values or tensor of complex values, but got 'tensor<1000x1000xsi32>'\n/Users/harry/Documents/deep-learning-with-jax/jaxenv/lib/python3.11/site-packages/IPython/core/magics/execution.py:1364:16: note: called from\n                exec(code, glob, local_ns)\n               ^\n/Users/harry/Documents/deep-learning-with-jax/jaxenv/lib/python3.11/site-packages/IPython/core/interactiveshell.py:2482:25: note: called from\n                result = fn(*args, **kwargs)\n                        ^\n/var/folders/t3/5g06g87x3k32kcs57k9p9y1r0000gn/T/ipykernel_80611/3696143475.py:1:0: note: called from\n/Users/harry/Documents/deep-learning-with-jax/jaxenv/lib/python3.11/site-packages/IPython/core/interactiveshell.py:3579:20: note: called from\n                    exec(code_obj, self.user_global_ns, self.user_ns)\n                   ^\n/Users/harry/Documents/deep-learning-with-jax/jaxenv/lib/python3.11/site-packages/IPython/core/interactiveshell.py:3519:19: note: called from\n                if await self.run_code(code, result, async_=asy):\n                  ^\n/Users/harry/Documents/deep-learning-with-jax/jaxenv/lib/python3.11/site-packages/IPython/core/interactiveshell.py:3336:29: note: called from\n                has_raised = await self.run_ast_nodes(code_ast.body, cell_name,\n                            ^\n/Users/harry/Documents/deep-learning-with-jax/jaxenv/lib/python3.11/site-packages/IPython/core/async_helpers.py:128:8: note: called from\n        coro.send(None)\n       ^\n/Users/harry/Documents/deep-learning-with-jax/jaxenv/lib/python3.11/site-packages/IPython/core/interactiveshell.py:3132:21: note: called from\n            result = runner(coro)\n                    ^\n/Users/harry/Documents/deep-learning-with-jax/jaxenv/lib/python3.11/site-packages/IPython/core/interactiveshell.py:3077:21: note: called from\n            result = self._run_cell(\n                    ^\n<timed exec>:1:4: note: see current operation: %0 = \"mps.matmul\"(%arg0, %arg1) <{transpose_lhs = false, transpose_rhs = false}> : (tensor<1000x1000xsi32>, tensor<1000x1000xsi32>) -> tensor<1000x1000xsi32>\n"
          ]
        },
        {
          "ename": "XlaRuntimeError",
          "evalue": "UNKNOWN: <timed exec>:1:4: error: 'mps.matmul' op operand #0 must be tensor of floating point values or tensor of complex values, but got 'tensor<1000x1000xsi32>'\n/Users/harry/Documents/deep-learning-with-jax/jaxenv/lib/python3.11/site-packages/IPython/core/magics/execution.py:1364:16: note: called from\n                exec(code, glob, local_ns)\n               ^\n/Users/harry/Documents/deep-learning-with-jax/jaxenv/lib/python3.11/site-packages/IPython/core/interactiveshell.py:2482:25: note: called from\n                result = fn(*args, **kwargs)\n                        ^\n/var/folders/t3/5g06g87x3k32kcs57k9p9y1r0000gn/T/ipykernel_80611/3696143475.py:1:0: note: called from\n/Users/harry/Documents/deep-learning-with-jax/jaxenv/lib/python3.11/site-packages/IPython/core/interactiveshell.py:3579:20: note: called from\n                    exec(code_obj, self.user_global_ns, self.user_ns)\n                   ^\n/Users/harry/Documents/deep-learning-with-jax/jaxenv/lib/python3.11/site-packages/IPython/core/interactiveshell.py:3519:19: note: called from\n                if await self.run_code(code, result, async_=asy):\n                  ^\n/Users/harry/Documents/deep-learning-with-jax/jaxenv/lib/python3.11/site-packages/IPython/core/interactiveshell.py:3336:29: note: called from\n                has_raised = await self.run_ast_nodes(code_ast.body, cell_name,\n                            ^\n/Users/harry/Documents/deep-learning-with-jax/jaxenv/lib/python3.11/site-packages/IPython/core/async_helpers.py:128:8: note: called from\n        coro.send(None)\n       ^\n/Users/harry/Documents/deep-learning-with-jax/jaxenv/lib/python3.11/site-packages/IPython/core/interactiveshell.py:3132:21: note: called from\n            result = runner(coro)\n                    ^\n/Users/harry/Documents/deep-learning-with-jax/jaxenv/lib/python3.11/site-packages/IPython/core/interactiveshell.py:3077:21: note: called from\n            result = self._run_cell(\n                    ^\n<timed exec>:1:4: note: see current operation: %0 = \"mps.matmul\"(%arg0, %arg1) <{transpose_lhs = false, transpose_rhs = false}> : (tensor<1000x1000xsi32>, tensor<1000x1000xsi32>) -> tensor<1000x1000xsi32>\n",
          "output_type": "error",
          "traceback": [
            "\u001b[0;31m---------------------------------------------------------------------------\u001b[0m",
            "\u001b[0;31mXlaRuntimeError\u001b[0m                           Traceback (most recent call last)",
            "File \u001b[0;32m<timed exec>:1\u001b[0m\n",
            "    \u001b[0;31m[... skipping hidden 10 frame]\u001b[0m\n",
            "File \u001b[0;32m~/Documents/deep-learning-with-jax/jaxenv/lib/python3.11/site-packages/jax/_src/compiler.py:315\u001b[0m, in \u001b[0;36mbackend_compile\u001b[0;34m(backend, module, options, host_callbacks)\u001b[0m\n\u001b[1;32m    309\u001b[0m     \u001b[38;5;28;01mreturn\u001b[39;00m backend\u001b[38;5;241m.\u001b[39mcompile(\n\u001b[1;32m    310\u001b[0m         built_c, compile_options\u001b[38;5;241m=\u001b[39moptions, host_callbacks\u001b[38;5;241m=\u001b[39mhost_callbacks\n\u001b[1;32m    311\u001b[0m     )\n\u001b[1;32m    312\u001b[0m   \u001b[38;5;66;03m# Some backends don't have `host_callbacks` option yet\u001b[39;00m\n\u001b[1;32m    313\u001b[0m   \u001b[38;5;66;03m# TODO(sharadmv): remove this fallback when all backends allow `compile`\u001b[39;00m\n\u001b[1;32m    314\u001b[0m   \u001b[38;5;66;03m# to take in `host_callbacks`\u001b[39;00m\n\u001b[0;32m--> 315\u001b[0m   \u001b[38;5;28;01mreturn\u001b[39;00m \u001b[43mbackend\u001b[49m\u001b[38;5;241;43m.\u001b[39;49m\u001b[43mcompile\u001b[49m\u001b[43m(\u001b[49m\u001b[43mbuilt_c\u001b[49m\u001b[43m,\u001b[49m\u001b[43m \u001b[49m\u001b[43mcompile_options\u001b[49m\u001b[38;5;241;43m=\u001b[39;49m\u001b[43moptions\u001b[49m\u001b[43m)\u001b[49m\n\u001b[1;32m    316\u001b[0m \u001b[38;5;28;01mexcept\u001b[39;00m xc\u001b[38;5;241m.\u001b[39mXlaRuntimeError \u001b[38;5;28;01mas\u001b[39;00m e:\n\u001b[1;32m    317\u001b[0m   \u001b[38;5;28;01mfor\u001b[39;00m error_handler \u001b[38;5;129;01min\u001b[39;00m _XLA_RUNTIME_ERROR_HANDLERS:\n",
            "\u001b[0;31mXlaRuntimeError\u001b[0m: UNKNOWN: <timed exec>:1:4: error: 'mps.matmul' op operand #0 must be tensor of floating point values or tensor of complex values, but got 'tensor<1000x1000xsi32>'\n/Users/harry/Documents/deep-learning-with-jax/jaxenv/lib/python3.11/site-packages/IPython/core/magics/execution.py:1364:16: note: called from\n                exec(code, glob, local_ns)\n               ^\n/Users/harry/Documents/deep-learning-with-jax/jaxenv/lib/python3.11/site-packages/IPython/core/interactiveshell.py:2482:25: note: called from\n                result = fn(*args, **kwargs)\n                        ^\n/var/folders/t3/5g06g87x3k32kcs57k9p9y1r0000gn/T/ipykernel_80611/3696143475.py:1:0: note: called from\n/Users/harry/Documents/deep-learning-with-jax/jaxenv/lib/python3.11/site-packages/IPython/core/interactiveshell.py:3579:20: note: called from\n                    exec(code_obj, self.user_global_ns, self.user_ns)\n                   ^\n/Users/harry/Documents/deep-learning-with-jax/jaxenv/lib/python3.11/site-packages/IPython/core/interactiveshell.py:3519:19: note: called from\n                if await self.run_code(code, result, async_=asy):\n                  ^\n/Users/harry/Documents/deep-learning-with-jax/jaxenv/lib/python3.11/site-packages/IPython/core/interactiveshell.py:3336:29: note: called from\n                has_raised = await self.run_ast_nodes(code_ast.body, cell_name,\n                            ^\n/Users/harry/Documents/deep-learning-with-jax/jaxenv/lib/python3.11/site-packages/IPython/core/async_helpers.py:128:8: note: called from\n        coro.send(None)\n       ^\n/Users/harry/Documents/deep-learning-with-jax/jaxenv/lib/python3.11/site-packages/IPython/core/interactiveshell.py:3132:21: note: called from\n            result = runner(coro)\n                    ^\n/Users/harry/Documents/deep-learning-with-jax/jaxenv/lib/python3.11/site-packages/IPython/core/interactiveshell.py:3077:21: note: called from\n            result = self._run_cell(\n                    ^\n<timed exec>:1:4: note: see current operation: %0 = \"mps.matmul\"(%arg0, %arg1) <{transpose_lhs = false, transpose_rhs = false}> : (tensor<1000x1000xsi32>, tensor<1000x1000xsi32>) -> tensor<1000x1000xsi32>\n"
          ]
        },
        {
          "name": "stdout",
          "output_type": "stream",
          "text": [
            "TFRT_CPU_0\n",
            "CPU times: user 77.6 ms, sys: 2.66 ms, total: 80.2 ms\n",
            "Wall time: 35.1 ms\n"
          ]
        }
      ],
      "source": [
        "%time x = jnp.dot(a, a)\n",
        "%time x = jnp.dot(a, a).block_until_ready()\n",
        "a_cpu = jax.device_put(a, jax.devices('cpu')[0])\n",
        "print(a_cpu.device)\n",
        "%time x = jnp.dot(a_cpu, a_cpu).block_until_ready()"
      ]
    }
  ],
  "metadata": {
    "accelerator": "GPU",
    "colab": {
      "gpuType": "T4",
      "provenance": []
    },
    "kernelspec": {
      "display_name": "jaxenv",
      "language": "python",
      "name": "python3"
    },
    "language_info": {
      "codemirror_mode": {
        "name": "ipython",
        "version": 3
      },
      "file_extension": ".py",
      "mimetype": "text/x-python",
      "name": "python",
      "nbconvert_exporter": "python",
      "pygments_lexer": "ipython3",
      "version": "3.11.9"
    }
  },
  "nbformat": 4,
  "nbformat_minor": 0
}
