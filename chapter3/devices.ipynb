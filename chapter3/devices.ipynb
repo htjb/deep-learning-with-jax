{
  "cells": [
    {
      "cell_type": "code",
      "execution_count": 2,
      "metadata": {
        "colab": {
          "base_uri": "https://localhost:8080/"
        },
        "id": "h_RxLujOKkH9",
        "outputId": "724b20a5-1aa6-462d-ad8c-3169c0d37834"
      },
      "outputs": [
        {
          "output_type": "execute_result",
          "data": {
            "text/plain": [
              "[CudaDevice(id=0)]"
            ]
          },
          "metadata": {},
          "execution_count": 2
        }
      ],
      "source": [
        "import jax\n",
        "jax.devices()"
      ]
    },
    {
      "cell_type": "code",
      "execution_count": 3,
      "metadata": {
        "colab": {
          "base_uri": "https://localhost:8080/"
        },
        "id": "prGzQ5eqKkIA",
        "outputId": "9037a237-5822-4d6a-ace7-3f20dfc84e9c"
      },
      "outputs": [
        {
          "output_type": "execute_result",
          "data": {
            "text/plain": [
              "[CudaDevice(id=0)]"
            ]
          },
          "metadata": {},
          "execution_count": 3
        }
      ],
      "source": [
        "jax.local_devices()"
      ]
    },
    {
      "cell_type": "code",
      "execution_count": 4,
      "metadata": {
        "colab": {
          "base_uri": "https://localhost:8080/"
        },
        "id": "0PCzcaGPKkIA",
        "outputId": "987e3dc6-8545-467c-d190-79cb6b22feed"
      },
      "outputs": [
        {
          "output_type": "execute_result",
          "data": {
            "text/plain": [
              "1"
            ]
          },
          "metadata": {},
          "execution_count": 4
        }
      ],
      "source": [
        "jax.device_count('gpu')"
      ]
    },
    {
      "cell_type": "code",
      "source": [
        "jax.device_count('cpu')"
      ],
      "metadata": {
        "colab": {
          "base_uri": "https://localhost:8080/"
        },
        "id": "d6fbb-KMK5gR",
        "outputId": "5ec7e07e-44f6-47c0-cc63-c3f5fcd4a579"
      },
      "execution_count": 5,
      "outputs": [
        {
          "output_type": "execute_result",
          "data": {
            "text/plain": [
              "1"
            ]
          },
          "metadata": {},
          "execution_count": 5
        }
      ]
    },
    {
      "cell_type": "code",
      "source": [
        "import jax.numpy as jnp\n",
        "arr = jnp.array([1, 42, 31337])\n",
        "arr.device"
      ],
      "metadata": {
        "colab": {
          "base_uri": "https://localhost:8080/"
        },
        "id": "mYj5DPqQMHvk",
        "outputId": "baa131ba-29f9-4351-8bc1-5559ff771037"
      },
      "execution_count": 6,
      "outputs": [
        {
          "output_type": "execute_result",
          "data": {
            "text/plain": [
              "CudaDevice(id=0)"
            ]
          },
          "metadata": {},
          "execution_count": 6
        }
      ]
    },
    {
      "cell_type": "code",
      "source": [
        "arr_cpu = jax.device_put(arr, jax.devices('cpu')[0])\n",
        "arr_cpu.device"
      ],
      "metadata": {
        "colab": {
          "base_uri": "https://localhost:8080/"
        },
        "id": "WfQtYOaTMjCi",
        "outputId": "d96af6f4-5211-4e8b-ee44-e94420cda77b"
      },
      "execution_count": 7,
      "outputs": [
        {
          "output_type": "execute_result",
          "data": {
            "text/plain": [
              "CpuDevice(id=0)"
            ]
          },
          "metadata": {},
          "execution_count": 7
        }
      ]
    },
    {
      "cell_type": "code",
      "source": [
        "arr.device"
      ],
      "metadata": {
        "colab": {
          "base_uri": "https://localhost:8080/"
        },
        "id": "Ia5QDTorMyhR",
        "outputId": "209ea761-becf-4fce-e84e-663efc73a0f6"
      },
      "execution_count": 8,
      "outputs": [
        {
          "output_type": "execute_result",
          "data": {
            "text/plain": [
              "CudaDevice(id=0)"
            ]
          },
          "metadata": {},
          "execution_count": 8
        }
      ]
    },
    {
      "cell_type": "code",
      "source": [
        "arr_host = jax.device_get(arr)\n",
        "type(arr_host)"
      ],
      "metadata": {
        "colab": {
          "base_uri": "https://localhost:8080/"
        },
        "id": "Jq3IlCyCM7Gg",
        "outputId": "73971f11-e177-47bc-9b7d-2d46db08d754"
      },
      "execution_count": 9,
      "outputs": [
        {
          "output_type": "execute_result",
          "data": {
            "text/plain": [
              "numpy.ndarray"
            ]
          },
          "metadata": {},
          "execution_count": 9
        }
      ]
    },
    {
      "cell_type": "code",
      "source": [
        "arr_host"
      ],
      "metadata": {
        "colab": {
          "base_uri": "https://localhost:8080/"
        },
        "id": "XgWUo7Y_NDHT",
        "outputId": "68ba2d29-a286-46d1-cd0d-211977b331f1"
      },
      "execution_count": 10,
      "outputs": [
        {
          "output_type": "execute_result",
          "data": {
            "text/plain": [
              "array([    1,    42, 31337], dtype=int32)"
            ]
          },
          "metadata": {},
          "execution_count": 10
        }
      ]
    },
    {
      "cell_type": "code",
      "source": [
        "arr + arr_cpu"
      ],
      "metadata": {
        "colab": {
          "base_uri": "https://localhost:8080/"
        },
        "id": "IodqveeFNa5K",
        "outputId": "4463d69e-d4de-4275-b2f6-c9d4dc23acb9"
      },
      "execution_count": 11,
      "outputs": [
        {
          "output_type": "execute_result",
          "data": {
            "text/plain": [
              "Array([    2,    84, 62674], dtype=int32)"
            ]
          },
          "metadata": {},
          "execution_count": 11
        }
      ]
    },
    {
      "cell_type": "code",
      "source": [
        "arr_gpu = jax.device_put(arr, jax.devices('gpu')[0])\n",
        "\n",
        "try:\n",
        "  arr_gpu + arr_cpu\n",
        "except Exception as e:\n",
        "  print(e)"
      ],
      "metadata": {
        "colab": {
          "base_uri": "https://localhost:8080/"
        },
        "id": "5OVxmt7lNjpF",
        "outputId": "6ab64141-dbcb-4db8-fc1a-96b66ba3a544"
      },
      "execution_count": 12,
      "outputs": [
        {
          "output_type": "stream",
          "name": "stdout",
          "text": [
            "Received incompatible devices for jitted computation. Got argument x of _add with shape int32[3] and device ids [0] on platform GPU and argument y of _add with shape int32[3] and device ids [0] on platform CPU\n"
          ]
        }
      ]
    },
    {
      "cell_type": "code",
      "source": [
        "a = jnp.array(range(1000000)).reshape(1000, 1000)\n",
        "a.device"
      ],
      "metadata": {
        "id": "LTGIXJN-hgIK",
        "outputId": "f6dd3e7f-a3ee-4db0-f97a-88e3e07b8cce",
        "colab": {
          "base_uri": "https://localhost:8080/"
        }
      },
      "execution_count": 16,
      "outputs": [
        {
          "output_type": "execute_result",
          "data": {
            "text/plain": [
              "CudaDevice(id=0)"
            ]
          },
          "metadata": {},
          "execution_count": 16
        }
      ]
    },
    {
      "cell_type": "code",
      "source": [
        "%time x = jnp.dot(a, a)\n",
        "%time x = jnp.dot(a, a).block_until_ready()\n",
        "a_cpu = jax.device_put(a, jax.devices('cpu')[0])\n",
        "print(a_cpu.device)\n",
        "%time x = jnp.dot(a_cpu, a_cpu).block_until_ready()"
      ],
      "metadata": {
        "id": "Bue5hkixh668",
        "outputId": "8b37d393-fe83-4b93-e6a5-858fc22cc426",
        "colab": {
          "base_uri": "https://localhost:8080/"
        }
      },
      "execution_count": 24,
      "outputs": [
        {
          "output_type": "stream",
          "name": "stdout",
          "text": [
            "CPU times: user 794 µs, sys: 0 ns, total: 794 µs\n",
            "Wall time: 490 µs\n",
            "CPU times: user 681 µs, sys: 0 ns, total: 681 µs\n",
            "Wall time: 11.5 ms\n",
            "TFRT_CPU_0\n",
            "CPU times: user 222 ms, sys: 0 ns, total: 222 ms\n",
            "Wall time: 138 ms\n"
          ]
        }
      ]
    }
  ],
  "metadata": {
    "kernelspec": {
      "display_name": "Python 3",
      "name": "python3"
    },
    "language_info": {
      "codemirror_mode": {
        "name": "ipython",
        "version": 3
      },
      "file_extension": ".py",
      "mimetype": "text/x-python",
      "name": "python",
      "nbconvert_exporter": "python",
      "pygments_lexer": "ipython3",
      "version": "3.11.9"
    },
    "colab": {
      "provenance": [],
      "gpuType": "T4"
    },
    "accelerator": "GPU"
  },
  "nbformat": 4,
  "nbformat_minor": 0
}